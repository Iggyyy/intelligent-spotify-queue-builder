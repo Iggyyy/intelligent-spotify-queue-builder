{
 "metadata": {
  "language_info": {
   "codemirror_mode": {
    "name": "ipython",
    "version": 3
   },
   "file_extension": ".py",
   "mimetype": "text/x-python",
   "name": "python",
   "nbconvert_exporter": "python",
   "pygments_lexer": "ipython3",
   "version": "3.9.1"
  },
  "orig_nbformat": 2,
  "kernelspec": {
   "name": "python391jvsc74a57bd0e9ef6c2000d8d0ad138bad04188b906e0ee46536df715013b3463d7dd29c4f73",
   "display_name": "Python 3.9.1 64-bit ('pp-env': conda)"
  }
 },
 "nbformat": 4,
 "nbformat_minor": 2,
 "cells": [
  {
   "cell_type": "code",
   "execution_count": 2,
   "metadata": {},
   "outputs": [
    {
     "output_type": "error",
     "ename": "FileNotFoundError",
     "evalue": "[Errno 2] No such file or directory: 'e:\\\\PROJEKTY_PYTHON\\\\DATA SCIENCE\\\\spotify_overlook\\\\data_analysis\\\\scripts\\\\credentials.txt'",
     "traceback": [
      "\u001b[1;31m---------------------------------------------------------------------------\u001b[0m",
      "\u001b[1;31mFileNotFoundError\u001b[0m                         Traceback (most recent call last)",
      "\u001b[1;32m<ipython-input-2-3e854c8586f2>\u001b[0m in \u001b[0;36m<module>\u001b[1;34m\u001b[0m\n\u001b[0;32m      9\u001b[0m \u001b[1;33m\u001b[0m\u001b[0m\n\u001b[0;32m     10\u001b[0m \u001b[1;33m\u001b[0m\u001b[0m\n\u001b[1;32m---> 11\u001b[1;33m \u001b[0mdownloader\u001b[0m \u001b[1;33m=\u001b[0m \u001b[0mDownloader\u001b[0m\u001b[1;33m(\u001b[0m\u001b[0msetup\u001b[0m\u001b[1;33m.\u001b[0m\u001b[0mget_spotify_username\u001b[0m\u001b[1;33m(\u001b[0m\u001b[1;33m)\u001b[0m\u001b[1;33m)\u001b[0m\u001b[1;33m\u001b[0m\u001b[1;33m\u001b[0m\u001b[0m\n\u001b[0m\u001b[0;32m     12\u001b[0m \u001b[1;33m\u001b[0m\u001b[0m\n\u001b[0;32m     13\u001b[0m \u001b[0mITERATIONS\u001b[0m \u001b[1;33m=\u001b[0m \u001b[1;36m32\u001b[0m\u001b[1;33m\u001b[0m\u001b[1;33m\u001b[0m\u001b[0m\n",
      "\u001b[1;32me:\\PROJEKTY_PYTHON\\DATA SCIENCE\\spotify_overlook\\scripts\\setup.py\u001b[0m in \u001b[0;36mget_spotify_username\u001b[1;34m(filename)\u001b[0m\n\u001b[0;32m     32\u001b[0m     First line of the file should contain this username.'''\n\u001b[0;32m     33\u001b[0m \u001b[1;33m\u001b[0m\u001b[0m\n\u001b[1;32m---> 34\u001b[1;33m     \u001b[1;32mwith\u001b[0m \u001b[0mopen\u001b[0m\u001b[1;33m(\u001b[0m\u001b[0m__combine_absolute_path\u001b[0m\u001b[1;33m(\u001b[0m\u001b[0mfilename\u001b[0m\u001b[1;33m)\u001b[0m\u001b[1;33m,\u001b[0m \u001b[1;34m'r'\u001b[0m\u001b[1;33m)\u001b[0m \u001b[1;32mas\u001b[0m \u001b[0mf\u001b[0m\u001b[1;33m:\u001b[0m\u001b[1;33m\u001b[0m\u001b[1;33m\u001b[0m\u001b[0m\n\u001b[0m\u001b[0;32m     35\u001b[0m         \u001b[0mname\u001b[0m \u001b[1;33m=\u001b[0m \u001b[0mf\u001b[0m\u001b[1;33m.\u001b[0m\u001b[0mreadline\u001b[0m\u001b[1;33m(\u001b[0m\u001b[1;33m)\u001b[0m\u001b[1;33m.\u001b[0m\u001b[0mrstrip\u001b[0m\u001b[1;33m(\u001b[0m\u001b[1;34m\"\\n\"\u001b[0m\u001b[1;33m)\u001b[0m\u001b[1;33m\u001b[0m\u001b[1;33m\u001b[0m\u001b[0m\n\u001b[0;32m     36\u001b[0m     \u001b[0mprint\u001b[0m\u001b[1;33m(\u001b[0m\u001b[1;34m'Username'\u001b[0m\u001b[1;33m,\u001b[0m \u001b[0mname\u001b[0m\u001b[1;33m)\u001b[0m\u001b[1;33m\u001b[0m\u001b[1;33m\u001b[0m\u001b[0m\n",
      "\u001b[1;31mFileNotFoundError\u001b[0m: [Errno 2] No such file or directory: 'e:\\\\PROJEKTY_PYTHON\\\\DATA SCIENCE\\\\spotify_overlook\\\\data_analysis\\\\scripts\\\\credentials.txt'"
     ]
    }
   ],
   "source": [
    "import pandas as pd\n",
    "import numpy as np \n",
    "import sys, os\n",
    "sys.path.insert(0, os.path.abspath(os.path.join(os.path.dirname('__file__'), '..')))\n",
    "\n",
    "from classes.downloader import Downloader\n",
    "from scripts import setup\n",
    "from classes.tracks import Track\n",
    "\n",
    "\n",
    "downloader = Downloader(setup.get_spotify_username())\n",
    "\n",
    "ITERATIONS = 32\n",
    "TRACKS_PER_YEAR = 200\n",
    "RECORDS_PER_REQUEST = 50\n",
    "raw_tracks = list()\n",
    "\n",
    "\n",
    "#artists template\n",
    "##########################\n",
    "# id # year # name # \n",
    "\n",
    "year = 2021"
   ]
  },
  {
   "cell_type": "code",
   "execution_count": null,
   "metadata": {},
   "outputs": [],
   "source": [
    "\n",
    "for i in range(ITERATIONS):\n",
    "    for k in range(int(TRACKS_PER_YEAR/RECORDS_PER_REQUEST) + 1):\n",
    "        query=f'year:{year}'\n",
    "        data = downloader.fetch_tracks_by_custom_query(query, records=RECORDS_PER_REQUEST,                          \n",
    "        type='track', offset=k*RECORDS_PER_REQUEST)\n",
    "        \n",
    "        tmp_tracks = list( map( lambda x: Track(x), data['tracks']['items'] ) )\n",
    "        raw_tracks += list( map( lambda x: (x.id, year ,x.name),  tmp_tracks))\n",
    "\n",
    "    year -= 1\n",
    "\n",
    "\n",
    "print(len(raw_tracks))\n"
   ]
  },
  {
   "cell_type": "code",
   "execution_count": null,
   "metadata": {},
   "outputs": [],
   "source": [
    "tracks = pd.DataFrame( { 'Name': [i[2] for i in raw_tracks],\n",
    "'Id': [i[0] for i in raw_tracks],\n",
    "'Year': [i[1] for i in raw_tracks]\n",
    "})\n",
    "\n",
    "\n",
    "\n",
    "print(tracks.head(5))\n",
    "tracks.shape"
   ]
  },
  {
   "cell_type": "code",
   "execution_count": null,
   "metadata": {},
   "outputs": [],
   "source": [
    "csv_name = f'Tracks_{tracks.shape[0]}dp_y' + str(tracks['Year'].min()) + '-' +  str(tracks['Year'].max())+ '.csv' \n",
    "tracks.to_csv(csv_name)\n"
   ]
  },
  {
   "cell_type": "code",
   "execution_count": null,
   "metadata": {},
   "outputs": [],
   "source": []
  },
  {
   "cell_type": "code",
   "execution_count": null,
   "metadata": {},
   "outputs": [],
   "source": []
  }
 ]
}