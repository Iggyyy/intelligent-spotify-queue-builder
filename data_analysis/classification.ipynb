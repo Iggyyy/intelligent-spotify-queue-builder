{
 "metadata": {
  "language_info": {
   "codemirror_mode": {
    "name": "ipython",
    "version": 3
   },
   "file_extension": ".py",
   "mimetype": "text/x-python",
   "name": "python",
   "nbconvert_exporter": "python",
   "pygments_lexer": "ipython3",
   "version": "3.9.1"
  },
  "orig_nbformat": 2,
  "kernelspec": {
   "name": "python391jvsc74a57bd0e9ef6c2000d8d0ad138bad04188b906e0ee46536df715013b3463d7dd29c4f73",
   "display_name": "Python 3.9.1 64-bit ('pp-env': conda)"
  }
 },
 "nbformat": 4,
 "nbformat_minor": 2,
 "cells": [
  {
   "cell_type": "code",
   "execution_count": 64,
   "metadata": {},
   "outputs": [
    {
     "output_type": "execute_result",
     "data": {
      "text/plain": [
       "Index(['danceability', 'energy', 'key', 'loudness', 'mode', 'speechiness',\n",
       "       'acousticness', 'instrumentalness', 'liveness', 'valence', 'tempo'],\n",
       "      dtype='object')"
      ]
     },
     "metadata": {},
     "execution_count": 64
    }
   ],
   "source": [
    "from sklearn.neighbors import NearestNeighbors\n",
    "from sklearn.preprocessing import MinMaxScaler\n",
    "import numpy as np \n",
    "import pandas as pd \n",
    "\n",
    "pd_data = pd.read_csv('Tracks_8000dp_y1990-2021_full.csv', index_col=0)\n",
    "labels = pd_data.keys()\n",
    "data = pd_data.iloc[ :, 3::].to_numpy()\n",
    "data[0]\n",
    "pd_data.iloc[ :, 3::].keys()\n",
    "\n"
   ]
  },
  {
   "cell_type": "code",
   "execution_count": 33,
   "metadata": {},
   "outputs": [
    {
     "output_type": "stream",
     "name": "stdout",
     "text": [
      "MinMaxScaler()\n[  0.985   0.999  11.      0.457   1.      0.955   0.996   1.      0.996\n   0.991 220.099]\n[ 0.0000e+00  2.0100e-05  0.0000e+00 -4.7046e+01  0.0000e+00  0.0000e+00\n  0.0000e+00  0.0000e+00  0.0000e+00  0.0000e+00  0.0000e+00]\n"
     ]
    }
   ],
   "source": [
    "scaler = MinMaxScaler()\n",
    "print(scaler.fit(data))\n",
    "print(scaler.data_max_)\n",
    "print(scaler.data_min_)\n",
    "normalized_data = scaler.transform(data)"
   ]
  },
  {
   "cell_type": "code",
   "execution_count": 36,
   "metadata": {},
   "outputs": [
    {
     "output_type": "stream",
     "name": "stdout",
     "text": [
      "Index(['Name', 'Id', 'Year', 'danceability', 'energy', 'key', 'loudness',\n       'mode', 'speechiness', 'acousticness', 'instrumentalness', 'liveness',\n       'valence', 'tempo'],\n      dtype='object')\n"
     ]
    },
    {
     "output_type": "execute_result",
     "data": {
      "text/plain": [
       "array([7.73604061e-01, 7.01695700e-01, 7.27272727e-01, 9.15836895e-01,\n",
       "       1.00000000e+00, 2.99476440e-02, 2.35943775e-01, 1.58000000e-04,\n",
       "       1.23493976e-01, 7.48738648e-01, 5.04173122e-01])"
      ]
     },
     "metadata": {},
     "execution_count": 36
    }
   ],
   "source": [
    "print(labels)\n",
    "normalized_data[0]"
   ]
  },
  {
   "cell_type": "code",
   "execution_count": 40,
   "metadata": {},
   "outputs": [
    {
     "output_type": "stream",
     "name": "stdout",
     "text": [
      "[[0.         0.10998974 0.14791852 0.17044731]\n [0.         0.         0.         0.        ]\n [0.         0.18311848 0.19155598 0.20396922]\n ...\n [0.         0.19194727 0.20491517 0.22765389]\n [0.         0.14648034 0.18447125 0.18480479]\n [0.         0.23342031 0.26252476 0.27200342]] [[   0 7107 7034 5582]\n [2251  251 2751    1]\n [   2 3518 6517 6649]\n ...\n [7997 7731 6808 6897]\n [7998 1916 1584 6028]\n [7999 3834 5264 3799]]\n"
     ]
    }
   ],
   "source": [
    "nbrs = NearestNeighbors(n_neighbors=4, algorithm='ball_tree').fit(normalized_data)\n",
    "distances,indices = nbrs.kneighbors(normalized_data)\n",
    "print(distances, indices)"
   ]
  },
  {
   "cell_type": "code",
   "execution_count": 56,
   "metadata": {},
   "outputs": [
    {
     "output_type": "stream",
     "name": "stdout",
     "text": [
      "distances: [[0.         0.26951977 0.36890422 0.37146327 0.43107896]]\nneighbor indexes: [[ 200  204 7647 5344 7015]]\n"
     ]
    }
   ],
   "source": [
    "test_element = normalized_data[200]\n",
    "\n",
    "distances, neighbors = nbrs.kneighbors([test_element], n_neighbors=5, return_distance=True)\n",
    "print( 'distances:' ,distances )\n",
    "print('neighbor indexes:', neighbors)"
   ]
  },
  {
   "cell_type": "code",
   "execution_count": 62,
   "metadata": {},
   "outputs": [
    {
     "output_type": "execute_result",
     "data": {
      "text/plain": [
       "['7C7a42jkuYz4lzVhZuwKZI',\n",
       " '30fbS4JTqTphRg2UPn1yyj',\n",
       " '31usEzDUXeGWAheRaCeEaD',\n",
       " '0WVTQp3SOCuMr08jh1jweV',\n",
       " '25U7raB3ZSszayTYClh4hF']"
      ]
     },
     "metadata": {},
     "execution_count": 62
    }
   ],
   "source": [
    "similar_tracks = list()\n",
    "for i in neighbors[0]:\n",
    "    similar_tracks.append(  pd_data.iloc[i].Id )\n",
    "similar_tracks"
   ]
  },
  {
   "cell_type": "code",
   "execution_count": null,
   "metadata": {},
   "outputs": [],
   "source": []
  }
 ]
}