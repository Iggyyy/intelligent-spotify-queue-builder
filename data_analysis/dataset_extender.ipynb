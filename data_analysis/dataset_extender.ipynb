{
 "metadata": {
  "language_info": {
   "codemirror_mode": {
    "name": "ipython",
    "version": 3
   },
   "file_extension": ".py",
   "mimetype": "text/x-python",
   "name": "python",
   "nbconvert_exporter": "python",
   "pygments_lexer": "ipython3",
   "version": "3.9.1"
  },
  "orig_nbformat": 2,
  "kernelspec": {
   "name": "python391jvsc74a57bd0e9ef6c2000d8d0ad138bad04188b906e0ee46536df715013b3463d7dd29c4f73",
   "display_name": "Python 3.9.1 64-bit ('pp-env': conda)"
  }
 },
 "nbformat": 4,
 "nbformat_minor": 2,
 "cells": [
  {
   "cell_type": "code",
   "execution_count": 2,
   "metadata": {},
   "outputs": [
    {
     "output_type": "stream",
     "name": "stdout",
     "text": [
      "Username swagnacy\nEnvironmental variables set\n                       Name                      Id  Year\n0  Kiss Me More (feat. SZA)  748mdHapucXQri7IAO8yFK  2021\n1                 Year 2020  08ejYlzduA6O82FJgnFKQz  2021\n2                   RAPSTAR  43PGPuHIlVOc04jrZVh9L6  2021\n3                   Breathe  1YqRxaBc1qOC0a82ZcPz0q  2021\n4                  good 4 u  6PERP62TejQjgHu81OHxgM  2021\n"
     ]
    }
   ],
   "source": [
    "import pandas as pd \n",
    "import numpy as np\n",
    "import sys, os\n",
    "sys.path.insert(0, os.path.abspath(os.path.join(os.path.dirname('__file__'), '..')))\n",
    "from classes.downloader import Downloader\n",
    "from scripts import setup\n",
    "from classes.tracks import Track\n",
    "\n",
    "filename= 'Tracks_8000dp_y1990-2021.csv'\n",
    "\n",
    "downloader = Downloader(setup.get_spotify_username())\n",
    "data = pd.read_csv('Tracks_8000dp_y1990-2021.csv', index_col=0)\n",
    "\n",
    "print(data.head(5))"
   ]
  },
  {
   "cell_type": "code",
   "execution_count": 17,
   "metadata": {
    "tags": [
     "outputPrepend"
    ]
   },
   "outputs": [
    {
     "output_type": "stream",
     "name": "stdout",
     "text": [
      "tify.com/v1/tracks/6IC6VhpV7D8T1t037Atqpu', 'analysis_url': 'https://api.spotify.com/v1/audio-analysis/6IC6VhpV7D8T1t037Atqpu', 'duration_ms': 187053, 'time_signature': 4}\n",
      "4200 {'danceability': 0.777, 'energy': 0.493, 'key': 2, 'loudness': -6.516, 'mode': 1, 'speechiness': 0.126, 'acousticness': 0.181, 'instrumentalness': 0, 'liveness': 0.108, 'valence': 0.82, 'tempo': 134.086, 'type': 'audio_features', 'id': '4VKnkoNNM6yTb4cXXX3wqD', 'uri': 'spotify:track:4VKnkoNNM6yTb4cXXX3wqD', 'track_href': 'https://api.spotify.com/v1/tracks/4VKnkoNNM6yTb4cXXX3wqD', 'analysis_url': 'https://api.spotify.com/v1/audio-analysis/4VKnkoNNM6yTb4cXXX3wqD', 'duration_ms': 232840, 'time_signature': 4}\n",
      "4300 {'danceability': 0.291, 'energy': 0.974, 'key': 6, 'loudness': -2.997, 'mode': 0, 'speechiness': 0.171, 'acousticness': 0.0177, 'instrumentalness': 5.44e-06, 'liveness': 0.886, 'valence': 0.348, 'tempo': 134.724, 'type': 'audio_features', 'id': '6wqJeItl3Vc3az4ZicSQAB', 'uri': 'spotify:track:6wqJeItl3Vc3az4ZicSQAB', 'track_href': 'https://api.spotify.com/v1/tracks/6wqJeItl3Vc3az4ZicSQAB', 'analysis_url': 'https://api.spotify.com/v1/audio-analysis/6wqJeItl3Vc3az4ZicSQAB', 'duration_ms': 278600, 'time_signature': 4}\n",
      "4400 {'danceability': 0.642, 'energy': 0.442, 'key': 8, 'loudness': -9.115, 'mode': 1, 'speechiness': 0.074, 'acousticness': 0.491, 'instrumentalness': 1.58e-06, 'liveness': 0.102, 'valence': 0.465, 'tempo': 148.01, 'type': 'audio_features', 'id': '4NUt1fcnO9aQAELBgXq3Kr', 'uri': 'spotify:track:4NUt1fcnO9aQAELBgXq3Kr', 'track_href': 'https://api.spotify.com/v1/tracks/4NUt1fcnO9aQAELBgXq3Kr', 'analysis_url': 'https://api.spotify.com/v1/audio-analysis/4NUt1fcnO9aQAELBgXq3Kr', 'duration_ms': 231773, 'time_signature': 4}\n",
      "4500 {'danceability': 0.726, 'energy': 0.463, 'key': 0, 'loudness': -7.828, 'mode': 1, 'speechiness': 0.0799, 'acousticness': 0.00817, 'instrumentalness': 0.447, 'liveness': 0.255, 'valence': 0.321, 'tempo': 123.881, 'type': 'audio_features', 'id': '3dPQuX8Gs42Y7b454ybpMR', 'uri': 'spotify:track:3dPQuX8Gs42Y7b454ybpMR', 'track_href': 'https://api.spotify.com/v1/tracks/3dPQuX8Gs42Y7b454ybpMR', 'analysis_url': 'https://api.spotify.com/v1/audio-analysis/3dPQuX8Gs42Y7b454ybpMR', 'duration_ms': 231733, 'time_signature': 4}\n",
      "4600 {'danceability': 0.537, 'energy': 0.699, 'key': 10, 'loudness': -6.615, 'mode': 1, 'speechiness': 0.0399, 'acousticness': 0.237, 'instrumentalness': 2.27e-05, 'liveness': 0.114, 'valence': 0.814, 'tempo': 84.905, 'type': 'audio_features', 'id': '2HqCaO7BV010qXS5FuiTED', 'uri': 'spotify:track:2HqCaO7BV010qXS5FuiTED', 'track_href': 'https://api.spotify.com/v1/tracks/2HqCaO7BV010qXS5FuiTED', 'analysis_url': 'https://api.spotify.com/v1/audio-analysis/2HqCaO7BV010qXS5FuiTED', 'duration_ms': 250627, 'time_signature': 4}\n",
      "4700 {'danceability': 0.525, 'energy': 0.481, 'key': 8, 'loudness': -6.715, 'mode': 1, 'speechiness': 0.0251, 'acousticness': 0.302, 'instrumentalness': 0, 'liveness': 0.121, 'valence': 0.237, 'tempo': 75.974, 'type': 'audio_features', 'id': '6FW9MTGMjR5A6q2o7PLuuz', 'uri': 'spotify:track:6FW9MTGMjR5A6q2o7PLuuz', 'track_href': 'https://api.spotify.com/v1/tracks/6FW9MTGMjR5A6q2o7PLuuz', 'analysis_url': 'https://api.spotify.com/v1/audio-analysis/6FW9MTGMjR5A6q2o7PLuuz', 'duration_ms': 289000, 'time_signature': 4}\n",
      "4800 {'danceability': 0.53, 'energy': 0.768, 'key': 7, 'loudness': -5.611, 'mode': 1, 'speechiness': 0.0284, 'acousticness': 0.00385, 'instrumentalness': 0, 'liveness': 0.103, 'valence': 0.374, 'tempo': 148.095, 'type': 'audio_features', 'id': '3WbphvawbMZ8FyqDxYGdSQ', 'uri': 'spotify:track:3WbphvawbMZ8FyqDxYGdSQ', 'track_href': 'https://api.spotify.com/v1/tracks/3WbphvawbMZ8FyqDxYGdSQ', 'analysis_url': 'https://api.spotify.com/v1/audio-analysis/3WbphvawbMZ8FyqDxYGdSQ', 'duration_ms': 260333, 'time_signature': 4}\n",
      "4900 {'danceability': 0.596, 'energy': 0.573, 'key': 2, 'loudness': -7.452, 'mode': 1, 'speechiness': 0.0285, 'acousticness': 0.192, 'instrumentalness': 0, 'liveness': 0.0881, 'valence': 0.417, 'tempo': 78.554, 'type': 'audio_features', 'id': '4MNfkZ8dtva3cjJ2biqnDS', 'uri': 'spotify:track:4MNfkZ8dtva3cjJ2biqnDS', 'track_href': 'https://api.spotify.com/v1/tracks/4MNfkZ8dtva3cjJ2biqnDS', 'analysis_url': 'https://api.spotify.com/v1/audio-analysis/4MNfkZ8dtva3cjJ2biqnDS', 'duration_ms': 175013, 'time_signature': 4}\n",
      "5000 {'danceability': 0.643, 'energy': 0.849, 'key': 2, 'loudness': -5.428, 'mode': 1, 'speechiness': 0.0526, 'acousticness': 0.0371, 'instrumentalness': 0, 'liveness': 0.058, 'valence': 0.903, 'tempo': 162.152, 'type': 'audio_features', 'id': '6GG73Jik4jUlQCkKg9JuGO', 'uri': 'spotify:track:6GG73Jik4jUlQCkKg9JuGO', 'track_href': 'https://api.spotify.com/v1/tracks/6GG73Jik4jUlQCkKg9JuGO', 'analysis_url': 'https://api.spotify.com/v1/audio-analysis/6GG73Jik4jUlQCkKg9JuGO', 'duration_ms': 165853, 'time_signature': 4}\n",
      "5100 {'danceability': 0.794, 'energy': 0.832, 'key': 1, 'loudness': -4.862, 'mode': 0, 'speechiness': 0.0407, 'acousticness': 0.237, 'instrumentalness': 1.14e-05, 'liveness': 0.203, 'valence': 0.871, 'tempo': 107.657, 'type': 'audio_features', 'id': '2lnzGkdtDj5mtlcOW2yRtG', 'uri': 'spotify:track:2lnzGkdtDj5mtlcOW2yRtG', 'track_href': 'https://api.spotify.com/v1/tracks/2lnzGkdtDj5mtlcOW2yRtG', 'analysis_url': 'https://api.spotify.com/v1/audio-analysis/2lnzGkdtDj5mtlcOW2yRtG', 'duration_ms': 196160, 'time_signature': 4}\n",
      "5200 {'danceability': 0.581, 'energy': 0.651, 'key': 7, 'loudness': -5.617, 'mode': 1, 'speechiness': 0.0392, 'acousticness': 0.143, 'instrumentalness': 1.05e-05, 'liveness': 0.107, 'valence': 0.146, 'tempo': 151.959, 'type': 'audio_features', 'id': '24Gxm7Eh7tO83E26LG0CsY', 'uri': 'spotify:track:24Gxm7Eh7tO83E26LG0CsY', 'track_href': 'https://api.spotify.com/v1/tracks/24Gxm7Eh7tO83E26LG0CsY', 'analysis_url': 'https://api.spotify.com/v1/audio-analysis/24Gxm7Eh7tO83E26LG0CsY', 'duration_ms': 264600, 'time_signature': 4}\n",
      "5300 {'danceability': 0.49, 'energy': 0.715, 'key': 7, 'loudness': -5.549, 'mode': 1, 'speechiness': 0.0476, 'acousticness': 0.386, 'instrumentalness': 0, 'liveness': 0.311, 'valence': 0.866, 'tempo': 130.726, 'type': 'audio_features', 'id': '4pbG9SUmWIvsROVLF0zF9s', 'uri': 'spotify:track:4pbG9SUmWIvsROVLF0zF9s', 'track_href': 'https://api.spotify.com/v1/tracks/4pbG9SUmWIvsROVLF0zF9s', 'analysis_url': 'https://api.spotify.com/v1/audio-analysis/4pbG9SUmWIvsROVLF0zF9s', 'duration_ms': 145747, 'time_signature': 4}\n",
      "5400 {'danceability': 0.834, 'energy': 0.481, 'key': 2, 'loudness': -7.824, 'mode': 0, 'speechiness': 0.188, 'acousticness': 0.0732, 'instrumentalness': 0, 'liveness': 0.0934, 'valence': 0.406, 'tempo': 89.849, 'type': 'audio_features', 'id': '4bUfMNNmiCmPXVyWzIfKeZ', 'uri': 'spotify:track:4bUfMNNmiCmPXVyWzIfKeZ', 'track_href': 'https://api.spotify.com/v1/tracks/4bUfMNNmiCmPXVyWzIfKeZ', 'analysis_url': 'https://api.spotify.com/v1/audio-analysis/4bUfMNNmiCmPXVyWzIfKeZ', 'duration_ms': 285907, 'time_signature': 4}\n",
      "5500 {'danceability': 0.434, 'energy': 0.897, 'key': 0, 'loudness': -4.918, 'mode': 1, 'speechiness': 0.0488, 'acousticness': 0.0103, 'instrumentalness': 0, 'liveness': 0.612, 'valence': 0.684, 'tempo': 148.726, 'type': 'audio_features', 'id': '2m1hi0nfMR9vdGC8UcrnwU', 'uri': 'spotify:track:2m1hi0nfMR9vdGC8UcrnwU', 'track_href': 'https://api.spotify.com/v1/tracks/2m1hi0nfMR9vdGC8UcrnwU', 'analysis_url': 'https://api.spotify.com/v1/audio-analysis/2m1hi0nfMR9vdGC8UcrnwU', 'duration_ms': 167067, 'time_signature': 4}\n",
      "5600 {'danceability': 0.738, 'energy': 0.483, 'key': 0, 'loudness': -9.097, 'mode': 1, 'speechiness': 0.0526, 'acousticness': 0.467, 'instrumentalness': 0, 'liveness': 0.086, 'valence': 0.774, 'tempo': 90.941, 'type': 'audio_features', 'id': '1Y372uxsCkKqNclj2ercap', 'uri': 'spotify:track:1Y372uxsCkKqNclj2ercap', 'track_href': 'https://api.spotify.com/v1/tracks/1Y372uxsCkKqNclj2ercap', 'analysis_url': 'https://api.spotify.com/v1/audio-analysis/1Y372uxsCkKqNclj2ercap', 'duration_ms': 181307, 'time_signature': 4}\n",
      "5700 {'danceability': 0.745, 'energy': 0.639, 'key': 8, 'loudness': -6.809, 'mode': 1, 'speechiness': 0.0248, 'acousticness': 0.0784, 'instrumentalness': 7.99e-06, 'liveness': 0.261, 'valence': 0.797, 'tempo': 100.412, 'type': 'audio_features', 'id': '3Lpg4XUPBhscufuiSCNd30', 'uri': 'spotify:track:3Lpg4XUPBhscufuiSCNd30', 'track_href': 'https://api.spotify.com/v1/tracks/3Lpg4XUPBhscufuiSCNd30', 'analysis_url': 'https://api.spotify.com/v1/audio-analysis/3Lpg4XUPBhscufuiSCNd30', 'duration_ms': 188160, 'time_signature': 4}\n",
      "5800 {'danceability': 0.676, 'energy': 0.733, 'key': 0, 'loudness': -7.745, 'mode': 1, 'speechiness': 0.0294, 'acousticness': 0.191, 'instrumentalness': 0, 'liveness': 0.192, 'valence': 0.591, 'tempo': 98.234, 'type': 'audio_features', 'id': '0MjT9xQqJrQlNrkWKZgFbQ', 'uri': 'spotify:track:0MjT9xQqJrQlNrkWKZgFbQ', 'track_href': 'https://api.spotify.com/v1/tracks/0MjT9xQqJrQlNrkWKZgFbQ', 'analysis_url': 'https://api.spotify.com/v1/audio-analysis/0MjT9xQqJrQlNrkWKZgFbQ', 'duration_ms': 199040, 'time_signature': 3}\n",
      "5900 {'danceability': 0.85, 'energy': 0.676, 'key': 5, 'loudness': -4.224, 'mode': 0, 'speechiness': 0.209, 'acousticness': 0.0785, 'instrumentalness': 3.95e-05, 'liveness': 0.361, 'valence': 0.606, 'tempo': 85.05, 'type': 'audio_features', 'id': '152oiKrzbqUOWutP8m5PWv', 'uri': 'spotify:track:152oiKrzbqUOWutP8m5PWv', 'track_href': 'https://api.spotify.com/v1/tracks/152oiKrzbqUOWutP8m5PWv', 'analysis_url': 'https://api.spotify.com/v1/audio-analysis/152oiKrzbqUOWutP8m5PWv', 'duration_ms': 293227, 'time_signature': 4}\n",
      "6000 {'danceability': 0.64, 'energy': 0.864, 'key': 7, 'loudness': -6.576, 'mode': 1, 'speechiness': 0.0314, 'acousticness': 0.00832, 'instrumentalness': 0, 'liveness': 0.123, 'valence': 0.701, 'tempo': 102.026, 'type': 'audio_features', 'id': '42et6fnHCw1HIPSrdPprMl', 'uri': 'spotify:track:42et6fnHCw1HIPSrdPprMl', 'track_href': 'https://api.spotify.com/v1/tracks/42et6fnHCw1HIPSrdPprMl', 'analysis_url': 'https://api.spotify.com/v1/audio-analysis/42et6fnHCw1HIPSrdPprMl', 'duration_ms': 268360, 'time_signature': 4}\n",
      "6100 {'danceability': 0.68, 'energy': 0.463, 'key': 5, 'loudness': -15.29, 'mode': 1, 'speechiness': 0.165, 'acousticness': 0.718, 'instrumentalness': 0, 'liveness': 0.0985, 'valence': 0.858, 'tempo': 99.662, 'type': 'audio_features', 'id': '4qqfI5oNO53a6W7nWfutKH', 'uri': 'spotify:track:4qqfI5oNO53a6W7nWfutKH', 'track_href': 'https://api.spotify.com/v1/tracks/4qqfI5oNO53a6W7nWfutKH', 'analysis_url': 'https://api.spotify.com/v1/audio-analysis/4qqfI5oNO53a6W7nWfutKH', 'duration_ms': 195147, 'time_signature': 4}\n",
      "6200 {'danceability': 0.399, 'energy': 0.426, 'key': 10, 'loudness': -10.262, 'mode': 1, 'speechiness': 0.0446, 'acousticness': 0.834, 'instrumentalness': 0.000241, 'liveness': 0.686, 'valence': 0.433, 'tempo': 145.179, 'type': 'audio_features', 'id': '06h9kk12VjJ2bqcBc6IScR', 'uri': 'spotify:track:06h9kk12VjJ2bqcBc6IScR', 'track_href': 'https://api.spotify.com/v1/tracks/06h9kk12VjJ2bqcBc6IScR', 'analysis_url': 'https://api.spotify.com/v1/audio-analysis/06h9kk12VjJ2bqcBc6IScR', 'duration_ms': 268200, 'time_signature': 4}\n",
      "6300 {'danceability': 0.543, 'energy': 0.681, 'key': 7, 'loudness': -7.091, 'mode': 1, 'speechiness': 0.0289, 'acousticness': 0.0482, 'instrumentalness': 8.43e-05, 'liveness': 0.104, 'valence': 0.292, 'tempo': 95.415, 'type': 'audio_features', 'id': '5XrfFo0JFOnWD9ZMNXGkQh', 'uri': 'spotify:track:5XrfFo0JFOnWD9ZMNXGkQh', 'track_href': 'https://api.spotify.com/v1/tracks/5XrfFo0JFOnWD9ZMNXGkQh', 'analysis_url': 'https://api.spotify.com/v1/audio-analysis/5XrfFo0JFOnWD9ZMNXGkQh', 'duration_ms': 323400, 'time_signature': 4}\n",
      "6400 {'danceability': 0.68, 'energy': 0.671, 'key': 2, 'loudness': -7.142, 'mode': 1, 'speechiness': 0.0536, 'acousticness': 0.169, 'instrumentalness': 0.0286, 'liveness': 0.076, 'valence': 0.532, 'tempo': 96.941, 'type': 'audio_features', 'id': '3Pdjem5pj41gilOgXqkNtL', 'uri': 'spotify:track:3Pdjem5pj41gilOgXqkNtL', 'track_href': 'https://api.spotify.com/v1/tracks/3Pdjem5pj41gilOgXqkNtL', 'analysis_url': 'https://api.spotify.com/v1/audio-analysis/3Pdjem5pj41gilOgXqkNtL', 'duration_ms': 330947, 'time_signature': 4}\n",
      "6500 {'danceability': 0.647, 'energy': 0.514, 'key': 8, 'loudness': -10.05, 'mode': 1, 'speechiness': 0.0593, 'acousticness': 0.0655, 'instrumentalness': 0, 'liveness': 0.398, 'valence': 0.387, 'tempo': 79.974, 'type': 'audio_features', 'id': '7lQWRAjyhTpCWFC0jmclT4', 'uri': 'spotify:track:7lQWRAjyhTpCWFC0jmclT4', 'track_href': 'https://api.spotify.com/v1/tracks/7lQWRAjyhTpCWFC0jmclT4', 'analysis_url': 'https://api.spotify.com/v1/audio-analysis/7lQWRAjyhTpCWFC0jmclT4', 'duration_ms': 240693, 'time_signature': 4}\n",
      "6600 {'danceability': 0.691, 'energy': 0.448, 'key': 9, 'loudness': -12.501, 'mode': 1, 'speechiness': 0.0288, 'acousticness': 0.238, 'instrumentalness': 0.00191, 'liveness': 0.167, 'valence': 0.682, 'tempo': 77.899, 'type': 'audio_features', 'id': '6rtHT1rKFnDZL4EksdLY0t', 'uri': 'spotify:track:6rtHT1rKFnDZL4EksdLY0t', 'track_href': 'https://api.spotify.com/v1/tracks/6rtHT1rKFnDZL4EksdLY0t', 'analysis_url': 'https://api.spotify.com/v1/audio-analysis/6rtHT1rKFnDZL4EksdLY0t', 'duration_ms': 299627, 'time_signature': 4}\n",
      "6700 {'danceability': 0.401, 'energy': 0.706, 'key': 8, 'loudness': -7.554, 'mode': 1, 'speechiness': 0.0404, 'acousticness': 0.00415, 'instrumentalness': 0, 'liveness': 0.0916, 'valence': 0.458, 'tempo': 168.669, 'type': 'audio_features', 'id': '4l7YIni9bAiGwWMqK5wvgV', 'uri': 'spotify:track:4l7YIni9bAiGwWMqK5wvgV', 'track_href': 'https://api.spotify.com/v1/tracks/4l7YIni9bAiGwWMqK5wvgV', 'analysis_url': 'https://api.spotify.com/v1/audio-analysis/4l7YIni9bAiGwWMqK5wvgV', 'duration_ms': 239640, 'time_signature': 4}\n",
      "6800 {'danceability': 0.584, 'energy': 0.533, 'key': 10, 'loudness': -7.11, 'mode': 0, 'speechiness': 0.0305, 'acousticness': 0.684, 'instrumentalness': 0, 'liveness': 0.306, 'valence': 0.224, 'tempo': 131.745, 'type': 'audio_features', 'id': '3YKptz29AsOlm7WAVnztBh', 'uri': 'spotify:track:3YKptz29AsOlm7WAVnztBh', 'track_href': 'https://api.spotify.com/v1/tracks/3YKptz29AsOlm7WAVnztBh', 'analysis_url': 'https://api.spotify.com/v1/audio-analysis/3YKptz29AsOlm7WAVnztBh', 'duration_ms': 288427, 'time_signature': 3}\n",
      "6900 {'danceability': 0.713, 'energy': 0.503, 'key': 7, 'loudness': -9.663, 'mode': 1, 'speechiness': 0.0575, 'acousticness': 0.0323, 'instrumentalness': 0.167, 'liveness': 0.0601, 'valence': 0.211, 'tempo': 95.019, 'type': 'audio_features', 'id': '5yMQERKmNx6ajo4qHi1KT2', 'uri': 'spotify:track:5yMQERKmNx6ajo4qHi1KT2', 'track_href': 'https://api.spotify.com/v1/tracks/5yMQERKmNx6ajo4qHi1KT2', 'analysis_url': 'https://api.spotify.com/v1/audio-analysis/5yMQERKmNx6ajo4qHi1KT2', 'duration_ms': 221173, 'time_signature': 4}\n",
      "7000 {'danceability': 0.515, 'energy': 0.43, 'key': 7, 'loudness': -9.935, 'mode': 1, 'speechiness': 0.0372, 'acousticness': 0.0097, 'instrumentalness': 0.000133, 'liveness': 0.129, 'valence': 0.104, 'tempo': 91.844, 'type': 'audio_features', 'id': '70LcF31zb1H0PyJoS1Sx1r', 'uri': 'spotify:track:70LcF31zb1H0PyJoS1Sx1r', 'track_href': 'https://api.spotify.com/v1/tracks/70LcF31zb1H0PyJoS1Sx1r', 'analysis_url': 'https://api.spotify.com/v1/audio-analysis/70LcF31zb1H0PyJoS1Sx1r', 'duration_ms': 238640, 'time_signature': 4}\n",
      "7100 {'danceability': 0.711, 'energy': 0.618, 'key': 7, 'loudness': -10.742, 'mode': 1, 'speechiness': 0.0332, 'acousticness': 0.00677, 'instrumentalness': 0.00916, 'liveness': 0.116, 'valence': 0.533, 'tempo': 116.809, 'type': 'audio_features', 'id': '59xrC6NUUNt24Lft63CjiD', 'uri': 'spotify:track:59xrC6NUUNt24Lft63CjiD', 'track_href': 'https://api.spotify.com/v1/tracks/59xrC6NUUNt24Lft63CjiD', 'analysis_url': 'https://api.spotify.com/v1/audio-analysis/59xrC6NUUNt24Lft63CjiD', 'duration_ms': 376533, 'time_signature': 4}\n",
      "7200 {'danceability': 0.404, 'energy': 0.985, 'key': 0, 'loudness': -4.173, 'mode': 1, 'speechiness': 0.0491, 'acousticness': 0.00238, 'instrumentalness': 0, 'liveness': 0.192, 'valence': 0.697, 'tempo': 181.406, 'type': 'audio_features', 'id': '5TZn3LQSWwVPnBlPgFKb54', 'uri': 'spotify:track:5TZn3LQSWwVPnBlPgFKb54', 'track_href': 'https://api.spotify.com/v1/tracks/5TZn3LQSWwVPnBlPgFKb54', 'analysis_url': 'https://api.spotify.com/v1/audio-analysis/5TZn3LQSWwVPnBlPgFKb54', 'duration_ms': 197667, 'time_signature': 4}\n",
      "7300 {'danceability': 0.717, 'energy': 0.512, 'key': 2, 'loudness': -7.591, 'mode': 1, 'speechiness': 0.0404, 'acousticness': 0.701, 'instrumentalness': 0.000413, 'liveness': 0.0919, 'valence': 0.831, 'tempo': 98.891, 'type': 'audio_features', 'id': '65FVNeobrosMmZPQDMo185', 'uri': 'spotify:track:65FVNeobrosMmZPQDMo185', 'track_href': 'https://api.spotify.com/v1/tracks/65FVNeobrosMmZPQDMo185', 'analysis_url': 'https://api.spotify.com/v1/audio-analysis/65FVNeobrosMmZPQDMo185', 'duration_ms': 228849, 'time_signature': 1}\n",
      "7400 {'danceability': 0.434, 'energy': 0.938, 'key': 7, 'loudness': -7.924, 'mode': 1, 'speechiness': 0.0533, 'acousticness': 0.000532, 'instrumentalness': 0.0118, 'liveness': 0.11, 'valence': 0.717, 'tempo': 147.472, 'type': 'audio_features', 'id': '2bgsFbiStgVqxOtQ4UK3Uf', 'uri': 'spotify:track:2bgsFbiStgVqxOtQ4UK3Uf', 'track_href': 'https://api.spotify.com/v1/tracks/2bgsFbiStgVqxOtQ4UK3Uf', 'analysis_url': 'https://api.spotify.com/v1/audio-analysis/2bgsFbiStgVqxOtQ4UK3Uf', 'duration_ms': 258800, 'time_signature': 4}\n",
      "7500 {'danceability': 0.502, 'energy': 0.912, 'key': 1, 'loudness': -4.556, 'mode': 1, 'speechiness': 0.0564, 'acousticness': 2.55e-05, 'instrumentalness': 0.000173, 'liveness': 0.106, 'valence': 0.72, 'tempo': 116.761, 'type': 'audio_features', 'id': '5ghIJDpPoe3CfHMGu71E6T', 'uri': 'spotify:track:5ghIJDpPoe3CfHMGu71E6T', 'track_href': 'https://api.spotify.com/v1/tracks/5ghIJDpPoe3CfHMGu71E6T', 'analysis_url': 'https://api.spotify.com/v1/audio-analysis/5ghIJDpPoe3CfHMGu71E6T', 'duration_ms': 301920, 'time_signature': 4}\n",
      "7600 {'danceability': 0.595, 'energy': 0.867, 'key': 4, 'loudness': -11.737, 'mode': 0, 'speechiness': 0.0498, 'acousticness': 0.00357, 'instrumentalness': 5.33e-05, 'liveness': 0.382, 'valence': 0.469, 'tempo': 122.118, 'type': 'audio_features', 'id': '6fXzdWgyZhDeLmlzC7Mvco', 'uri': 'spotify:track:6fXzdWgyZhDeLmlzC7Mvco', 'track_href': 'https://api.spotify.com/v1/tracks/6fXzdWgyZhDeLmlzC7Mvco', 'analysis_url': 'https://api.spotify.com/v1/audio-analysis/6fXzdWgyZhDeLmlzC7Mvco', 'duration_ms': 214360, 'time_signature': 4}\n",
      "7700 {'danceability': 0.618, 'energy': 0.561, 'key': 7, 'loudness': -8.195, 'mode': 1, 'speechiness': 0.0267, 'acousticness': 0.527, 'instrumentalness': 0, 'liveness': 0.0878, 'valence': 0.665, 'tempo': 106.098, 'type': 'audio_features', 'id': '3PXpPL8yF990vV2iovVA9h', 'uri': 'spotify:track:3PXpPL8yF990vV2iovVA9h', 'track_href': 'https://api.spotify.com/v1/tracks/3PXpPL8yF990vV2iovVA9h', 'analysis_url': 'https://api.spotify.com/v1/audio-analysis/3PXpPL8yF990vV2iovVA9h', 'duration_ms': 203307, 'time_signature': 4}\n",
      "7800 {'danceability': 0.376, 'energy': 0.851, 'key': 0, 'loudness': -3.535, 'mode': 1, 'speechiness': 0.0459, 'acousticness': 0.11, 'instrumentalness': 0.000124, 'liveness': 0.277, 'valence': 0.487, 'tempo': 173.119, 'type': 'audio_features', 'id': '4nJlfdLIucLBkXEJPsSCSp', 'uri': 'spotify:track:4nJlfdLIucLBkXEJPsSCSp', 'track_href': 'https://api.spotify.com/v1/tracks/4nJlfdLIucLBkXEJPsSCSp', 'analysis_url': 'https://api.spotify.com/v1/audio-analysis/4nJlfdLIucLBkXEJPsSCSp', 'duration_ms': 249533, 'time_signature': 4}\n",
      "7900 {'danceability': 0.263, 'energy': 0.97, 'key': 5, 'loudness': -4.182, 'mode': 0, 'speechiness': 0.163, 'acousticness': 0.00338, 'instrumentalness': 0.000795, 'liveness': 0.0922, 'valence': 0.17, 'tempo': 151.729, 'type': 'audio_features', 'id': '3Ky8IzV8IVSwijtaTWB2SK', 'uri': 'spotify:track:3Ky8IzV8IVSwijtaTWB2SK', 'track_href': 'https://api.spotify.com/v1/tracks/3Ky8IzV8IVSwijtaTWB2SK', 'analysis_url': 'https://api.spotify.com/v1/audio-analysis/3Ky8IzV8IVSwijtaTWB2SK', 'duration_ms': 397827, 'time_signature': 4}\n"
     ]
    }
   ],
   "source": [
    "raw_jsons = list()\n",
    "\n",
    "#Download additional stuff\n",
    "for i in range(0, len(data), 100):\n",
    "    raw_jsons += downloader.fetch_tracks_additional_info(data['Id'][i : i+100])\n",
    "    print(i, raw_jsons[i])\n",
    "\n",
    "\n"
   ]
  },
  {
   "cell_type": "code",
   "execution_count": 20,
   "metadata": {},
   "outputs": [
    {
     "output_type": "stream",
     "name": "stdout",
     "text": [
      "8000\n"
     ]
    }
   ],
   "source": [
    "print(len(raw_jsons))"
   ]
  },
  {
   "cell_type": "code",
   "execution_count": 68,
   "metadata": {
    "tags": []
   },
   "outputs": [
    {
     "output_type": "execute_result",
     "data": {
      "text/plain": [
       "   danceability  energy  key  loudness  mode  speechiness  acousticness  \\\n",
       "0         0.762   0.701    8    -3.541     1       0.0286         0.235   \n",
       "1         0.805   0.417    4   -11.722     0       0.0462         0.508   \n",
       "\n",
       "   instrumentalness  liveness  valence    tempo            type  \\\n",
       "0          0.000158    0.1230    0.742  110.968  audio_features   \n",
       "1          0.020100    0.0903    0.548  129.984  audio_features   \n",
       "\n",
       "                       id                                   uri  \\\n",
       "0  748mdHapucXQri7IAO8yFK  spotify:track:748mdHapucXQri7IAO8yFK   \n",
       "1  08ejYlzduA6O82FJgnFKQz  spotify:track:08ejYlzduA6O82FJgnFKQz   \n",
       "\n",
       "                                          track_href  \\\n",
       "0  https://api.spotify.com/v1/tracks/748mdHapucXQ...   \n",
       "1  https://api.spotify.com/v1/tracks/08ejYlzduA6O...   \n",
       "\n",
       "                                        analysis_url  duration_ms  \\\n",
       "0  https://api.spotify.com/v1/audio-analysis/748m...       208867   \n",
       "1  https://api.spotify.com/v1/audio-analysis/08ej...       133281   \n",
       "\n",
       "   time_signature  \n",
       "0               4  \n",
       "1               4  "
      ],
      "text/html": "<div>\n<style scoped>\n    .dataframe tbody tr th:only-of-type {\n        vertical-align: middle;\n    }\n\n    .dataframe tbody tr th {\n        vertical-align: top;\n    }\n\n    .dataframe thead th {\n        text-align: right;\n    }\n</style>\n<table border=\"1\" class=\"dataframe\">\n  <thead>\n    <tr style=\"text-align: right;\">\n      <th></th>\n      <th>danceability</th>\n      <th>energy</th>\n      <th>key</th>\n      <th>loudness</th>\n      <th>mode</th>\n      <th>speechiness</th>\n      <th>acousticness</th>\n      <th>instrumentalness</th>\n      <th>liveness</th>\n      <th>valence</th>\n      <th>tempo</th>\n      <th>type</th>\n      <th>id</th>\n      <th>uri</th>\n      <th>track_href</th>\n      <th>analysis_url</th>\n      <th>duration_ms</th>\n      <th>time_signature</th>\n    </tr>\n  </thead>\n  <tbody>\n    <tr>\n      <th>0</th>\n      <td>0.762</td>\n      <td>0.701</td>\n      <td>8</td>\n      <td>-3.541</td>\n      <td>1</td>\n      <td>0.0286</td>\n      <td>0.235</td>\n      <td>0.000158</td>\n      <td>0.1230</td>\n      <td>0.742</td>\n      <td>110.968</td>\n      <td>audio_features</td>\n      <td>748mdHapucXQri7IAO8yFK</td>\n      <td>spotify:track:748mdHapucXQri7IAO8yFK</td>\n      <td>https://api.spotify.com/v1/tracks/748mdHapucXQ...</td>\n      <td>https://api.spotify.com/v1/audio-analysis/748m...</td>\n      <td>208867</td>\n      <td>4</td>\n    </tr>\n    <tr>\n      <th>1</th>\n      <td>0.805</td>\n      <td>0.417</td>\n      <td>4</td>\n      <td>-11.722</td>\n      <td>0</td>\n      <td>0.0462</td>\n      <td>0.508</td>\n      <td>0.020100</td>\n      <td>0.0903</td>\n      <td>0.548</td>\n      <td>129.984</td>\n      <td>audio_features</td>\n      <td>08ejYlzduA6O82FJgnFKQz</td>\n      <td>spotify:track:08ejYlzduA6O82FJgnFKQz</td>\n      <td>https://api.spotify.com/v1/tracks/08ejYlzduA6O...</td>\n      <td>https://api.spotify.com/v1/audio-analysis/08ej...</td>\n      <td>133281</td>\n      <td>4</td>\n    </tr>\n  </tbody>\n</table>\n</div>"
     },
     "metadata": {},
     "execution_count": 68
    }
   ],
   "source": [
    "vals =  list(map( lambda x: x, raw_jsons[0].values()))\n",
    "cols = list(raw_jsons[0].keys())\n",
    "\n",
    "r = raw_jsons[:]\n",
    "for item in r: \n",
    "    for key in item.keys():\n",
    "        item[key] =   item[key] \n",
    "\n",
    "a = pd.DataFrame.from_dict(r)\n",
    "a.head(2)"
   ]
  },
  {
   "cell_type": "code",
   "execution_count": 35,
   "metadata": {},
   "outputs": [
    {
     "output_type": "stream",
     "name": "stdout",
     "text": [
      "{'danceability': 0.762, 'energy': 0.701, 'key': 8, 'loudness': -3.541, 'mode': 1, 'speechiness': 0.0286, 'acousticness': 0.235, 'instrumentalness': 0.000158, 'liveness': 0.123, 'valence': 0.742, 'tempo': 110.968, 'type': 'audio_features', 'id': '748mdHapucXQri7IAO8yFK', 'uri': 'spotify:track:748mdHapucXQri7IAO8yFK', 'track_href': 'https://api.spotify.com/v1/tracks/748mdHapucXQri7IAO8yFK', 'analysis_url': 'https://api.spotify.com/v1/audio-analysis/748mdHapucXQri7IAO8yFK', 'duration_ms': 208867, 'time_signature': 4}\n"
     ]
    }
   ],
   "source": [
    "for item in raw_jsons: \n",
    "    for key in item.keys():\n",
    "        item[key] =   item[key][0] \n",
    "print(raw_jsons[0])"
   ]
  },
  {
   "cell_type": "code",
   "execution_count": 76,
   "metadata": {},
   "outputs": [
    {
     "output_type": "execute_result",
     "data": {
      "text/plain": [
       "   danceability  energy  key  loudness  mode  speechiness  acousticness  \\\n",
       "0         0.762   0.701    8    -3.541     1       0.0286         0.235   \n",
       "1         0.805   0.417    4   -11.722     0       0.0462         0.508   \n",
       "\n",
       "   instrumentalness  liveness  valence    tempo  \n",
       "0          0.000158    0.1230    0.742  110.968  \n",
       "1          0.020100    0.0903    0.548  129.984  "
      ],
      "text/html": "<div>\n<style scoped>\n    .dataframe tbody tr th:only-of-type {\n        vertical-align: middle;\n    }\n\n    .dataframe tbody tr th {\n        vertical-align: top;\n    }\n\n    .dataframe thead th {\n        text-align: right;\n    }\n</style>\n<table border=\"1\" class=\"dataframe\">\n  <thead>\n    <tr style=\"text-align: right;\">\n      <th></th>\n      <th>danceability</th>\n      <th>energy</th>\n      <th>key</th>\n      <th>loudness</th>\n      <th>mode</th>\n      <th>speechiness</th>\n      <th>acousticness</th>\n      <th>instrumentalness</th>\n      <th>liveness</th>\n      <th>valence</th>\n      <th>tempo</th>\n    </tr>\n  </thead>\n  <tbody>\n    <tr>\n      <th>0</th>\n      <td>0.762</td>\n      <td>0.701</td>\n      <td>8</td>\n      <td>-3.541</td>\n      <td>1</td>\n      <td>0.0286</td>\n      <td>0.235</td>\n      <td>0.000158</td>\n      <td>0.1230</td>\n      <td>0.742</td>\n      <td>110.968</td>\n    </tr>\n    <tr>\n      <th>1</th>\n      <td>0.805</td>\n      <td>0.417</td>\n      <td>4</td>\n      <td>-11.722</td>\n      <td>0</td>\n      <td>0.0462</td>\n      <td>0.508</td>\n      <td>0.020100</td>\n      <td>0.0903</td>\n      <td>0.548</td>\n      <td>129.984</td>\n    </tr>\n  </tbody>\n</table>\n</div>"
     },
     "metadata": {},
     "execution_count": 76
    }
   ],
   "source": [
    "features_df = a.iloc[:, 0:11]\n",
    "features_df.head(2)"
   ]
  },
  {
   "cell_type": "code",
   "execution_count": 77,
   "metadata": {},
   "outputs": [
    {
     "output_type": "execute_result",
     "data": {
      "text/plain": [
       "                       Name                      Id  Year  danceability  \\\n",
       "0  Kiss Me More (feat. SZA)  748mdHapucXQri7IAO8yFK  2021         0.762   \n",
       "1                 Year 2020  08ejYlzduA6O82FJgnFKQz  2021         0.805   \n",
       "2                   RAPSTAR  43PGPuHIlVOc04jrZVh9L6  2021         0.789   \n",
       "\n",
       "   energy  key  loudness  mode  speechiness  acousticness  instrumentalness  \\\n",
       "0   0.701    8    -3.541     1       0.0286         0.235          0.000158   \n",
       "1   0.417    4   -11.722     0       0.0462         0.508          0.020100   \n",
       "2   0.536    6    -6.862     1       0.2420         0.410          0.000000   \n",
       "\n",
       "   liveness  valence    tempo  \n",
       "0    0.1230    0.742  110.968  \n",
       "1    0.0903    0.548  129.984  \n",
       "2    0.1290    0.437   81.039  "
      ],
      "text/html": "<div>\n<style scoped>\n    .dataframe tbody tr th:only-of-type {\n        vertical-align: middle;\n    }\n\n    .dataframe tbody tr th {\n        vertical-align: top;\n    }\n\n    .dataframe thead th {\n        text-align: right;\n    }\n</style>\n<table border=\"1\" class=\"dataframe\">\n  <thead>\n    <tr style=\"text-align: right;\">\n      <th></th>\n      <th>Name</th>\n      <th>Id</th>\n      <th>Year</th>\n      <th>danceability</th>\n      <th>energy</th>\n      <th>key</th>\n      <th>loudness</th>\n      <th>mode</th>\n      <th>speechiness</th>\n      <th>acousticness</th>\n      <th>instrumentalness</th>\n      <th>liveness</th>\n      <th>valence</th>\n      <th>tempo</th>\n    </tr>\n  </thead>\n  <tbody>\n    <tr>\n      <th>0</th>\n      <td>Kiss Me More (feat. SZA)</td>\n      <td>748mdHapucXQri7IAO8yFK</td>\n      <td>2021</td>\n      <td>0.762</td>\n      <td>0.701</td>\n      <td>8</td>\n      <td>-3.541</td>\n      <td>1</td>\n      <td>0.0286</td>\n      <td>0.235</td>\n      <td>0.000158</td>\n      <td>0.1230</td>\n      <td>0.742</td>\n      <td>110.968</td>\n    </tr>\n    <tr>\n      <th>1</th>\n      <td>Year 2020</td>\n      <td>08ejYlzduA6O82FJgnFKQz</td>\n      <td>2021</td>\n      <td>0.805</td>\n      <td>0.417</td>\n      <td>4</td>\n      <td>-11.722</td>\n      <td>0</td>\n      <td>0.0462</td>\n      <td>0.508</td>\n      <td>0.020100</td>\n      <td>0.0903</td>\n      <td>0.548</td>\n      <td>129.984</td>\n    </tr>\n    <tr>\n      <th>2</th>\n      <td>RAPSTAR</td>\n      <td>43PGPuHIlVOc04jrZVh9L6</td>\n      <td>2021</td>\n      <td>0.789</td>\n      <td>0.536</td>\n      <td>6</td>\n      <td>-6.862</td>\n      <td>1</td>\n      <td>0.2420</td>\n      <td>0.410</td>\n      <td>0.000000</td>\n      <td>0.1290</td>\n      <td>0.437</td>\n      <td>81.039</td>\n    </tr>\n  </tbody>\n</table>\n</div>"
     },
     "metadata": {},
     "execution_count": 77
    }
   ],
   "source": [
    "merged_df = pd.concat([data, features_df], axis=1)\n",
    "merged_df.head(3)"
   ]
  },
  {
   "cell_type": "code",
   "execution_count": 78,
   "metadata": {},
   "outputs": [],
   "source": [
    "filename_merged = filename.replace('.csv', '_full.csv')\n",
    "merged_df.to_csv(filename_merged)"
   ]
  },
  {
   "cell_type": "code",
   "execution_count": null,
   "metadata": {},
   "outputs": [],
   "source": []
  }
 ]
}