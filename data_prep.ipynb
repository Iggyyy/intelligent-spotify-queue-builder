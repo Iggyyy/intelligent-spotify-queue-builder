{
 "metadata": {
  "language_info": {
   "codemirror_mode": {
    "name": "ipython",
    "version": 3
   },
   "file_extension": ".py",
   "mimetype": "text/x-python",
   "name": "python",
   "nbconvert_exporter": "python",
   "pygments_lexer": "ipython3",
   "version": "3.8.5"
  },
  "orig_nbformat": 2,
  "kernelspec": {
   "name": "python385jvsc74a57bd04ae8a2da264ef2ff1b1fcc1491c8f0c7d00e17575b69dc2165f5c87ae05d5799",
   "display_name": "Python 3.8.5 64-bit ('torch_env': conda)"
  }
 },
 "nbformat": 4,
 "nbformat_minor": 2,
 "cells": [
  {
   "cell_type": "code",
   "execution_count": 1,
   "metadata": {},
   "outputs": [],
   "source": [
    "import pandas as pd \n",
    "import numpy as np \n",
    "\n"
   ]
  },
  {
   "cell_type": "code",
   "execution_count": 4,
   "metadata": {},
   "outputs": [
    {
     "output_type": "stream",
     "name": "stdout",
     "text": [
      "                      track             artist  \\\n0                 Lucky Man  Montgomery Gentry   \n1            On The Hotline       Pretty Ricky   \n2        Clouds Of Dementia         Candlemass   \n3  Heavy Metal, Raise Hell!      Zwartketterij   \n4           I Got A Feelin'   Billy Currington   \n\n                                    uri  danceability  energy  key  loudness  \\\n0  spotify:track:4GiXBCUF7H6YfNQsnBRIzl         0.578   0.471    4    -7.270   \n1  spotify:track:1zyqZONW985Cs4osz9wlsu         0.704   0.854   10    -5.477   \n2  spotify:track:6cHZf7RbxXCKwEkgAZT4mY         0.162   0.836    9    -3.009   \n3  spotify:track:2IjBPp2vMeX7LggzRN3iSX         0.188   0.994    4    -3.745   \n4  spotify:track:1tF370eYXUcWwkIvaq3IGz         0.630   0.764    2    -4.353   \n\n   mode  speechiness  acousticness  instrumentalness  liveness  valence  \\\n0     1       0.0289      0.368000           0.00000     0.159    0.532   \n1     0       0.1830      0.018500           0.00000     0.148    0.688   \n2     1       0.0473      0.000111           0.00457     0.174    0.300   \n3     1       0.1660      0.000007           0.07840     0.192    0.333   \n4     1       0.0275      0.363000           0.00000     0.125    0.631   \n\n     tempo  duration_ms  time_signature  chorus_hit  sections  target  \n0  133.061       196707               4    30.88059        13       1  \n1   92.988       242587               4    41.51106        10       1  \n2   86.964       338893               4    65.32887        13       0  \n3  148.440       255667               4    58.59528         9       0  \n4  112.098       193760               4    22.62384        10       1  \n"
     ]
    }
   ],
   "source": [
    "test_data = pd.read_csv(\"./data/dataset-of-00s.csv\", skip)\n",
    "print(test_data.head(5))"
   ]
  },
  {
   "cell_type": "code",
   "execution_count": 5,
   "metadata": {},
   "outputs": [
    {
     "output_type": "stream",
     "name": "stdout",
     "text": [
      "track                object\nartist               object\nuri                  object\ndanceability        float64\nenergy              float64\nkey                   int64\nloudness            float64\nmode                  int64\nspeechiness         float64\nacousticness        float64\ninstrumentalness    float64\nliveness            float64\nvalence             float64\ntempo               float64\nduration_ms           int64\ntime_signature        int64\nchorus_hit          float64\nsections              int64\ntarget                int64\ndtype: object\n"
     ]
    }
   ],
   "source": [
    "print(test_data.dtypes)"
   ]
  },
  {
   "cell_type": "code",
   "execution_count": 11,
   "metadata": {},
   "outputs": [
    {
     "output_type": "stream",
     "name": "stdout",
     "text": [
      "                      track  danceability  loudness  speechiness  \\\n0                 Lucky Man         0.578    -7.270       0.0289   \n1            On The Hotline         0.704    -5.477       0.1830   \n2        Clouds Of Dementia         0.162    -3.009       0.0473   \n3  Heavy Metal, Raise Hell!         0.188    -3.745       0.1660   \n4           I Got A Feelin'         0.630    -4.353       0.0275   \n\n   acousticness  instrumentalness  valence  \n0      0.368000           0.00000    0.532  \n1      0.018500           0.00000    0.688  \n2      0.000111           0.00457    0.300  \n3      0.000007           0.07840    0.333  \n4      0.363000           0.00000    0.631  \n"
     ]
    }
   ],
   "source": [
    "simplified = test_data[ ['track', 'danceability', 'loudness', 'speechiness', 'acousticness', 'instrumentalness', 'valence'] ]\n",
    "print(simplified.head(5))"
   ]
  },
  {
   "cell_type": "code",
   "execution_count": 9,
   "metadata": {},
   "outputs": [
    {
     "output_type": "display_data",
     "data": {
      "text/plain": "<IPython.core.display.HTML object>",
      "text/html": "<style>.container { width:100% !important; }</style>"
     },
     "metadata": {}
    }
   ],
   "source": [
    "from IPython.core.display import display, HTML\n",
    "display(HTML(\"<style>.container { width:100% !important; }</style>\"))"
   ]
  },
  {
   "cell_type": "code",
   "execution_count": null,
   "metadata": {},
   "outputs": [],
   "source": []
  }
 ]
}