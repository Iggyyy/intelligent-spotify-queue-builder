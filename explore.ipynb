{
 "cells": [
  {
   "cell_type": "code",
   "execution_count": 2,
   "metadata": {},
   "outputs": [
    {
     "name": "stdout",
     "output_type": "stream",
     "text": [
      "Username swagnacy\n"
     ]
    },
    {
     "data": {
      "text/plain": [
       "126"
      ]
     },
     "execution_count": 2,
     "metadata": {},
     "output_type": "execute_result"
    }
   ],
   "source": [
    "from distutils.core import setup\n",
    "from classes.downloader import Downloader\n",
    "from classes.tracks import Track\n",
    "from scripts.dataset_creator import DatasetCreator\n",
    "import os\n",
    "import pandas as pd\n",
    "from scripts import setup\n",
    "import numpy as np\n",
    "\n",
    "\n",
    "d = Downloader(setup.get_spotify_username())\n",
    "   \n",
    "sonne = Track(d.fetch_single_track_by_name('sonne'))\n",
    "sonne.load_additional_song_data(d)\n",
    "\n",
    "related = d.get_related_artists(sonne.artist_id)\n",
    "#print(d.get_artist_top_tracks(sonne.artist_id))\n",
    "len(d.get_all_avaliable_genres())"
   ]
  },
  {
   "cell_type": "code",
   "execution_count": null,
   "metadata": {},
   "outputs": [],
   "source": [
    "for i in range(len(related['artists'])):\n",
    "    print(related['artists'][i]['name'], related['artists'][i]['id'])"
   ]
  },
  {
   "cell_type": "code",
   "execution_count": null,
   "metadata": {},
   "outputs": [],
   "source": [
    "def get_desired_data(track):\n",
    "    pp = pd.DataFrame.from_dict(track.audio_features.items()).T\n",
    "    pp.columns = pp.iloc[0]\n",
    "    pp = pp.drop(0)\n",
    "    pp = pp[['danceability', 'energy', 'key', 'loudness', 'mode', 'speechiness',\n",
    "                                                'acousticness', 'instrumentalness', 'liveness', 'valence', 'tempo',\n",
    "                                                'duration_ms']]\n",
    "    #p = pd.DataFrame(columns=['Name', 'Id', 'Year', 'Artist', 'Artist_id'])\n",
    "    pp['Name'] = [track.name]\n",
    "    pp['Id'] = [track.id]\n",
    "    pp['Year'] = [track.year]\n",
    "    pp['Artist'] = [track.artist_name]\n",
    "    pp['Artist_id'] = [track.artist_id]\n",
    "\n",
    "    return pp[['Name', 'Id', 'Year', 'Artist', 'Artist_id','danceability', 'energy', 'key', 'loudness', 'mode', 'speechiness',\n",
    "                                                'acousticness', 'instrumentalness', 'liveness', 'valence', 'tempo',\n",
    "                                                'duration_ms']]\n",
    "                                                \n",
    "                                        "
   ]
  },
  {
   "cell_type": "code",
   "execution_count": null,
   "metadata": {},
   "outputs": [],
   "source": [
    "df = pd.read_csv('datasets/full.csv').dropna()\n",
    "unique_ids = list(set(df['Artist_id'].tolist()))\n",
    "tmp_unique = unique_ids[:]\n",
    "\n",
    "for i, _id in enumerate(unique_ids):\n",
    "    if i < 170:\n",
    "        continue\n",
    "    #get related artists id\n",
    "    related_ids = [rel['id'] for rel in d.get_related_artists(_id)['artists']]\n",
    "    #print(related_ids)\n",
    "\n",
    "    artist = d.get_artist(_id)\n",
    "    if artist['popularity'] > 45:\n",
    "        #get top 10 for id\n",
    "        top = d.get_artist_top_tracks(_id)\n",
    "        if top['tracks'] is None:\n",
    "            continue\n",
    "\n",
    "        for tr in top['tracks']:\n",
    "            track = Track(tr)\n",
    "            track.load_additional_song_data(d)\n",
    "\n",
    "            if track.audio_features is None:\n",
    "                continue\n",
    "            \n",
    "            df = pd.concat([df, get_desired_data(track)])\n",
    "\n",
    "    #get top 10 for every related artist\n",
    "    it = 0\n",
    "    for relid in related_ids:\n",
    "        if it > 5:\n",
    "            break\n",
    "        it+=1\n",
    "        if relid not in tmp_unique:\n",
    "            artist = d.get_artist(relid)\n",
    "            if artist['popularity'] > 45:\n",
    "                tmp_unique.append(relid)\n",
    "                top = d.get_artist_top_tracks(relid)\n",
    "                if top['tracks'] is None:\n",
    "                    continue\n",
    "\n",
    "                for tr in top['tracks']:\n",
    "                    track = Track(tr)\n",
    "                    track.load_additional_song_data(d)\n",
    "\n",
    "                    if track.audio_features is None:\n",
    "                        continue\n",
    "\n",
    "                    df = pd.concat([df, get_desired_data(track)])\n",
    "    \n",
    "    print(f'{i} / {len(unique_ids)-1}')\n",
    "    df.to_csv('datasets/full.csv', index=False)\n",
    "\n",
    "df = df.reset_index(drop=True)  \n",
    "df.to_csv('datasets/full_dataset.csv', index=False)\n",
    "df.info()\n"
   ]
  },
  {
   "cell_type": "code",
   "execution_count": null,
   "metadata": {},
   "outputs": [],
   "source": [
    "d = pd.read_csv('datasets/full.csv')\n",
    "d.info()"
   ]
  },
  {
   "cell_type": "code",
   "execution_count": null,
   "metadata": {},
   "outputs": [],
   "source": []
  }
 ],
 "metadata": {
  "interpreter": {
   "hash": "cb70c4d8787183ee25d0e01949545456a84bf569f687b7622ec4c5a561d631a5"
  },
  "kernelspec": {
   "display_name": "Python 3.10.0 ('webenv')",
   "language": "python",
   "name": "python3"
  },
  "language_info": {
   "codemirror_mode": {
    "name": "ipython",
    "version": 3
   },
   "file_extension": ".py",
   "mimetype": "text/x-python",
   "name": "python",
   "nbconvert_exporter": "python",
   "pygments_lexer": "ipython3",
   "version": "3.9.4"
  },
  "orig_nbformat": 4
 },
 "nbformat": 4,
 "nbformat_minor": 2
}
